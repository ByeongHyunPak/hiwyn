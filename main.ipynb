{
 "cells": [
  {
   "cell_type": "code",
   "execution_count": null,
   "metadata": {},
   "outputs": [],
   "source": [
    "import os\n",
    "\n",
    "%cd /content\n",
    "if os.path.exists('/content/hiwyn'):\n",
    "  %rm -rf /content/hiwyn\n",
    "!git clone https://github.com/ByeongHyunPak/hiwyn.git\n",
    "%cd /content/hiwyn\n",
    "!pip install -e ."
   ]
  },
  {
   "cell_type": "code",
   "execution_count": null,
   "metadata": {},
   "outputs": [],
   "source": [
    "img_dir = \"imgs\"\n",
    "\n",
    "erpdm_version = \"0.1.1\"\n",
    "prompt = \"A photo of realistic cityscape of Florence\"\n",
    "\n",
    "theta_range = \"0 360\"\n",
    "num_theta = \"3 6 6 3\"\n",
    "\n",
    "phi_range = \"-45 45\"\n",
    "num_phi = 4\n",
    "\n",
    "fov = 90"
   ]
  },
  {
   "cell_type": "code",
   "execution_count": null,
   "metadata": {},
   "outputs": [],
   "source": [
    "!python main.py --img_dir \"imgs\" --erpdm_version \"0.1.1\" --prompt  \"A photo of realistic cityscape of Florence\" --theta_range 0 360 --num_theta 3 6 6 3 --phi_range -45 45 --num_phi 4 --fov 90"
   ]
  }
 ],
 "metadata": {
  "language_info": {
   "name": "python"
  },
  "orig_nbformat": 4
 },
 "nbformat": 4,
 "nbformat_minor": 2
}
