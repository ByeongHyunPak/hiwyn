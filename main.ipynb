{
 "cells": [
  {
   "cell_type": "code",
   "execution_count": null,
   "metadata": {},
   "outputs": [],
   "source": [
    "import os\n",
    "import torch\n",
    "import torch.nn as nn\n",
    "import torch.nn.functional as F\n",
    "\n",
    "import numpy as np\n",
    "\n",
    "from tqdm import tqdm\n",
    "from torchvision.transforms import ToPILImage\n",
    "\n",
    "%cd /content\n",
    "\n",
    "if os.path.exists('/content/hiwyn'):\n",
    "  %rm -rf /content/hiwyn\n",
    "!git clone https://github.com/ByeongHyunPak/hiwyn.git\n",
    "\n",
    "%cd /content/hiwyn"
   ]
  },
  {
   "cell_type": "code",
   "execution_count": null,
   "metadata": {},
   "outputs": [],
   "source": [
    "# opt variables\n",
    "sd_version = '2.0'\n",
    "negative = ''\n",
    "steps = 50"
   ]
  },
  {
   "cell_type": "code",
   "execution_count": null,
   "metadata": {},
   "outputs": [],
   "source": [
    "# view directions\n",
    "theta_range = (0, 360)\n",
    "phi_range = (-45, 45)\n",
    "\n",
    "num_phi = 4\n",
    "num_theta = [3, 6, 6, 3]\n",
    "assert num_phi == len(num_theta)\n",
    "\n",
    "directions = []\n",
    "phis = np.linspace(*phi_range, num_phi, endpoint=True)\n",
    "for i in range(num_phi):\n",
    "    thetas = np.linspace(*theta_range, num_theta[i], endpoint=False)\n",
    "    for theta in thetas:\n",
    "        directions.append((theta, phis[i]))\n",
    "    print(*directions[-num_theta[i]:])"
   ]
  },
  {
   "cell_type": "code",
   "execution_count": null,
   "metadata": {},
   "outputs": [],
   "source": [
    "H, W = 1024, 2048 # ERP resolution\n",
    "version = \"0.0.0\" # ERPDiffusion version\n",
    "prompt = \"Realistic cityscape of Florence\"\n",
    "dir_name = \"imgs\""
   ]
  },
  {
   "cell_type": "code",
   "execution_count": null,
   "metadata": {},
   "outputs": [],
   "source": [
    "if __name__ == '__main__':\n",
    "    \n",
    "    import gc\n",
    "    import traceback\n",
    "    from diffusions import *\n",
    "\n",
    "    seed_everything(2024)\n",
    "\n",
    "    ERPDiffusion = globals()[f\"ERPDiffusion_{version.replace('.', '_')}\"]\n",
    "\n",
    "    base_dir = f'/content/{dir_name}'\n",
    "    save_dir = f'{base_dir}/{prompt.split(\" \")[0]}-{version}/'\n",
    "    os.makedirs(base_dir, exist_ok=True)\n",
    "    os.makedirs(save_dir, exist_ok=True)\n",
    "\n",
    "    try:\n",
    "        sd = ERPDiffusion(device=torch.device('cuda'), sd_version=sd_version, views=directions) \n",
    "        outputs = sd.text2erp(\n",
    "            prompt, negative, height=H, width=W, num_inference_steps=steps, save_dir=save_dir)\n",
    "        \n",
    "        del outputs\n",
    "        del sd\n",
    "        torch.cuda.empty_cache()\n",
    "        gc.collect()\n",
    "        torch.cuda.empty_cache()\n",
    "        \n",
    "    except Exception:\n",
    "        \n",
    "        del sd\n",
    "        torch.cuda.empty_cache()\n",
    "        gc.collect()\n",
    "        torch.cuda.empty_cache()\n",
    "       \n",
    "        print(traceback.format_exc())"
   ]
  }
 ],
 "metadata": {
  "language_info": {
   "name": "python"
  },
  "orig_nbformat": 4
 },
 "nbformat": 4,
 "nbformat_minor": 2
}
